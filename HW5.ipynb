{
 "cells": [
  {
   "attachments": {},
   "cell_type": "markdown",
   "metadata": {},
   "source": [
    "<font size=\"1\">  \n",
    "<h1>Subject: Home Work 5<h1>\n",
    "    <p>Shahrood University of Technology (SUT)<p>\n",
    "    <p> Artificial Intelligence</p>\n",
    "    <p> Student Number: 40103834 </p>\n",
    "    <p style=\"color:yellow;\">Author: Ehsan Paydar</p> \n",
    "    </font>  "
   ]
  },
  {
   "attachments": {},
   "cell_type": "markdown",
   "metadata": {},
   "source": [
    "<h1 style=\"color:#a21441;\">Import Library</h1>"
   ]
  },
  {
   "cell_type": "code",
   "execution_count": 2,
   "metadata": {},
   "outputs": [],
   "source": [
    "import re\n",
    "import nltk\n",
    "import pandas as pd\n",
    "from nltk.corpus import stopwords\n",
    "from nltk.tokenize import word_tokenize\n",
    "from sklearn.naive_bayes import GaussianNB\n",
    "from sklearn.metrics import accuracy_score\n",
    "from sklearn.naive_bayes import BernoulliNB\n",
    "from sklearn.naive_bayes import MultinomialNB\n",
    "from sklearn.model_selection import train_test_split\n",
    "from sklearn.feature_extraction.text import CountVectorizer\n",
    "from sklearn.metrics import precision_recall_fscore_support\n",
    "from sklearn.metrics import classification_report, confusion_matrix\n",
    "from sklearn.naive_bayes import MultinomialNB, GaussianNB, BernoulliNB\n",
    "\n"
   ]
  },
  {
   "attachments": {},
   "cell_type": "markdown",
   "metadata": {},
   "source": [
    "<h1 style=\"color: yellow\"> First phase</h1>\n"
   ]
  },
  {
   "attachments": {},
   "cell_type": "markdown",
   "metadata": {},
   "source": [
    "<h1 style=\"color:#a21441;\"> 1) Load Dataset</h1>\n"
   ]
  },
  {
   "cell_type": "code",
   "execution_count": 3,
   "metadata": {},
   "outputs": [
    {
     "data": {
      "text/html": [
       "<div>\n",
       "<style scoped>\n",
       "    .dataframe tbody tr th:only-of-type {\n",
       "        vertical-align: middle;\n",
       "    }\n",
       "\n",
       "    .dataframe tbody tr th {\n",
       "        vertical-align: top;\n",
       "    }\n",
       "\n",
       "    .dataframe thead th {\n",
       "        text-align: right;\n",
       "    }\n",
       "</style>\n",
       "<table border=\"1\" class=\"dataframe\">\n",
       "  <thead>\n",
       "    <tr style=\"text-align: right;\">\n",
       "      <th></th>\n",
       "      <th>text</th>\n",
       "      <th>label</th>\n",
       "    </tr>\n",
       "  </thead>\n",
       "  <tbody>\n",
       "    <tr>\n",
       "      <th>0</th>\n",
       "      <td>From rssfeeds@jmason.org  Wed Oct  9 10:52:42 ...</td>\n",
       "      <td>ham</td>\n",
       "    </tr>\n",
       "    <tr>\n",
       "      <th>1</th>\n",
       "      <td>From lkqyvstyles@site-personals.com  Tue Aug 2...</td>\n",
       "      <td>spam</td>\n",
       "    </tr>\n",
       "    <tr>\n",
       "      <th>2</th>\n",
       "      <td>From spamassassin-talk-admin@lists.sourceforge...</td>\n",
       "      <td>ham</td>\n",
       "    </tr>\n",
       "    <tr>\n",
       "      <th>3</th>\n",
       "      <td>From kelli658@mail.gr  Tue Sep 24 15:54:27 200...</td>\n",
       "      <td>spam</td>\n",
       "    </tr>\n",
       "    <tr>\n",
       "      <th>4</th>\n",
       "      <td>From spamassassin-talk-admin@lists.sourceforge...</td>\n",
       "      <td>ham</td>\n",
       "    </tr>\n",
       "  </tbody>\n",
       "</table>\n",
       "</div>"
      ],
      "text/plain": [
       "                                                text label\n",
       "0  From rssfeeds@jmason.org  Wed Oct  9 10:52:42 ...   ham\n",
       "1  From lkqyvstyles@site-personals.com  Tue Aug 2...  spam\n",
       "2  From spamassassin-talk-admin@lists.sourceforge...   ham\n",
       "3  From kelli658@mail.gr  Tue Sep 24 15:54:27 200...  spam\n",
       "4  From spamassassin-talk-admin@lists.sourceforge...   ham"
      ]
     },
     "execution_count": 3,
     "metadata": {},
     "output_type": "execute_result"
    }
   ],
   "source": [
    "df = pd.read_csv('emails.csv')\n",
    "df.head()\n"
   ]
  },
  {
   "attachments": {},
   "cell_type": "markdown",
   "metadata": {},
   "source": [
    "<h1 style=\"color:#a21441;\"> 2) Preprocessing action - regular expression</h1>\n"
   ]
  },
  {
   "cell_type": "code",
   "execution_count": 7,
   "metadata": {},
   "outputs": [],
   "source": [
    "df['text'] = df['text'].apply(lambda x: re.sub('[^a-zA-Z]', ' ',x))\n",
    "df['text'] = df['text'].apply(lambda x: x.lower())"
   ]
  },
  {
   "attachments": {},
   "cell_type": "markdown",
   "metadata": {},
   "source": [
    "<h1 style=\"color:#a21441;\"> 3) Train and test split</h1>\n"
   ]
  },
  {
   "cell_type": "code",
   "execution_count": 8,
   "metadata": {},
   "outputs": [],
   "source": [
    "X_train, X_test, y_train, y_test = train_test_split(df['text'], df['label'], test_size=0.2, random_state=42)"
   ]
  },
  {
   "attachments": {},
   "cell_type": "markdown",
   "metadata": {},
   "source": [
    "<h1 style=\"color:#a21441;\"> 4)Method CountVectorizer</h1>\n"
   ]
  },
  {
   "cell_type": "code",
   "execution_count": 23,
   "metadata": {},
   "outputs": [
    {
     "name": "stderr",
     "output_type": "stream",
     "text": [
      "[nltk_data] Downloading package stopwords to\n",
      "[nltk_data]     /Users/epsoft/nltk_data...\n",
      "[nltk_data]   Package stopwords is already up-to-date!\n"
     ]
    }
   ],
   "source": [
    "nltk.download('stopwords')\n",
    "vectorizer = CountVectorizer(stop_words=stopwords.words('english'))\n",
    "X_train_counts = vectorizer.fit_transform(X_train)\n",
    "X_test_counts = vectorizer.transform(X_test)"
   ]
  },
  {
   "attachments": {},
   "cell_type": "markdown",
   "metadata": {},
   "source": [
    "<h1 style=\"color:#a21441;\"> 5)Transform and Fit</h1>\n"
   ]
  },
  {
   "cell_type": "code",
   "execution_count": 21,
   "metadata": {},
   "outputs": [],
   "source": [
    "nb = MultinomialNB()\n",
    "nb.fit(X_train_count, y_train)\n",
    "y_pred = nb.predict(X_test_count)"
   ]
  },
  {
   "cell_type": "code",
   "execution_count": 11,
   "metadata": {},
   "outputs": [
    {
     "name": "stdout",
     "output_type": "stream",
     "text": [
      "Accuracy: 0.9371534195933456\n"
     ]
    }
   ],
   "source": [
    "accuracy = accuracy_score(y_test, y_pred)\n",
    "print('Accuracy:', accuracy)"
   ]
  },
  {
   "attachments": {},
   "cell_type": "markdown",
   "metadata": {},
   "source": [
    "<h1 style=\"color: yellow\"> Second phase - MultinomialNB</h1>\n"
   ]
  },
  {
   "attachments": {},
   "cell_type": "markdown",
   "metadata": {},
   "source": [
    "<h1 style=\"color:#a21441;\"> 6-7) Library scikit-learn - The value of the alpha parameter</h1>\n"
   ]
  },
  {
   "cell_type": "code",
   "execution_count": 24,
   "metadata": {},
   "outputs": [],
   "source": [
    "clf = MultinomialNB(alpha=0.1)"
   ]
  },
  {
   "attachments": {},
   "cell_type": "markdown",
   "metadata": {},
   "source": [
    "<h1 style=\"color:#a21441;\"> 8) Education and prediction</h1>\n"
   ]
  },
  {
   "cell_type": "code",
   "execution_count": 13,
   "metadata": {},
   "outputs": [],
   "source": [
    "nb.fit(X_train_count, y_train)\n",
    "y_pred = nb.predict(X_test_count)"
   ]
  },
  {
   "attachments": {},
   "cell_type": "markdown",
   "metadata": {},
   "source": [
    "<h1 style=\"color:#a21441;\"> 9) f1-score / recall / precision / confusion matrix</h1>\n"
   ]
  },
  {
   "cell_type": "code",
   "execution_count": 15,
   "metadata": {},
   "outputs": [
    {
     "name": "stdout",
     "output_type": "stream",
     "text": [
      "              precision    recall  f1-score   support\n",
      "\n",
      "         ham       0.93      1.00      0.96       442\n",
      "        spam       1.00      0.66      0.79        99\n",
      "\n",
      "    accuracy                           0.94       541\n",
      "   macro avg       0.96      0.83      0.88       541\n",
      "weighted avg       0.94      0.94      0.93       541\n",
      "\n",
      "[[442   0]\n",
      " [ 34  65]]\n"
     ]
    }
   ],
   "source": [
    "print(classification_report(y_test, y_pred))\n",
    "print(confusion_matrix(y_test, y_pred))"
   ]
  },
  {
   "attachments": {},
   "cell_type": "markdown",
   "metadata": {},
   "source": [
    "<h1 style=\"color:#a21441;\"> 10) TfidfVectorizer /BernoulliNB / CountVectorizer /  TfidfVectorizer </h1>\n"
   ]
  },
  {
   "cell_type": "code",
   "execution_count": 16,
   "metadata": {},
   "outputs": [
    {
     "name": "stdout",
     "output_type": "stream",
     "text": [
      "Accuracy: 0.9371534195933456\n",
      "Precision: 1.0\n",
      "Recall: 0.6565656565656566\n",
      "F1 Score: 0.7926829268292683\n",
      "Confusion Matrix:\n",
      " [[442   0]\n",
      " [ 34  65]]\n"
     ]
    }
   ],
   "source": [
    "from sklearn.metrics import f1_score, precision_score, recall_score\n",
    "\n",
    "\n",
    "print('Accuracy:', accuracy_score(y_test, y_pred))\n",
    "print('Precision:', precision_score(y_test, y_pred, pos_label='spam'))\n",
    "print('Recall:', recall_score(y_test, y_pred, pos_label='spam'))\n",
    "print('F1 Score:', f1_score(y_test, y_pred, pos_label='spam'))\n",
    "print('Confusion Matrix:\\n', confusion_matrix(y_test, y_pred))"
   ]
  },
  {
   "cell_type": "code",
   "execution_count": 18,
   "metadata": {},
   "outputs": [
    {
     "name": "stdout",
     "output_type": "stream",
     "text": [
      "BernoulliNB Accuracy: 0.8317929759704251\n",
      "BernoulliNB Precision: 0.7857142857142857\n",
      "BernoulliNB Recall: 0.1111111111111111\n",
      "BernoulliNB F1 Score: 0.19469026548672566\n",
      "BernoulliNB Confusion Matrix:\n",
      " [[439   3]\n",
      " [ 88  11]]\n"
     ]
    }
   ],
   "source": [
    "from sklearn.feature_extraction.text import TfidfVectorizer\n",
    "\n",
    "\n",
    "vectorizer = TfidfVectorizer(binary=True)\n",
    "X_train_bin = vectorizer.fit_transform(X_train)\n",
    "X_test_bin = vectorizer.transform(X_test)\n",
    "\n",
    "nb = BernoulliNB()\n",
    "nb.fit(X_train_bin, y_train)\n",
    "y_pred = nb.predict(X_test_bin)\n",
    "\n",
    "print('BernoulliNB Accuracy:',accuracy_score(y_test, y_pred))\n",
    "print('BernoulliNB Precision:', precision_score(y_test, y_pred, pos_label='spam'))\n",
    "print('BernoulliNB Recall:', recall_score(y_test, y_pred, pos_label='spam'))\n",
    "print('BernoulliNB F1 Score:', f1_score(y_test, y_pred, pos_label='spam'))\n",
    "print('BernoulliNB Confusion Matrix:\\n', confusion_matrix(y_test, y_pred))"
   ]
  },
  {
   "cell_type": "code",
   "execution_count": 19,
   "metadata": {},
   "outputs": [
    {
     "name": "stdout",
     "output_type": "stream",
     "text": [
      "GaussianNB Accuracy: 0.9741219963031423\n",
      "GaussianNB Precision: 0.9885057471264368\n",
      "GaussianNB Recall: 0.8686868686868687\n",
      "GaussianNB F1 Score: 0.9247311827956989\n",
      "GaussianNB Confusion Matrix:\n",
      " [[441   1]\n",
      " [ 13  86]]\n"
     ]
    }
   ],
   "source": [
    "vectorizer = CountVectorizer()\n",
    "X_train_count = vectorizer.fit_transform(X_train)\n",
    "X_test_count = vectorizer.transform(X_test)\n",
    "\n",
    "nb = GaussianNB()\n",
    "nb.fit(X_train_count.toarray(), y_train)\n",
    "y_pred = nb.predict(X_test_count.toarray())\n",
    "\n",
    "print('GaussianNB Accuracy:', accuracy_score(y_test, y_pred))\n",
    "print('GaussianNB Precision:', precision_score(y_test, y_pred, pos_label='spam'))\n",
    "print('GaussianNB Recall:', recall_score(y_test, y_pred, pos_label='spam'))\n",
    "print('GaussianNB F1 Score:', f1_score(y_test, y_pred, pos_label='spam'))\n",
    "print('GaussianNB Confusion Matrix:\\n', confusion_matrix(y_test, y_pred))"
   ]
  }
 ],
 "metadata": {
  "kernelspec": {
   "display_name": "base",
   "language": "python",
   "name": "python3"
  },
  "language_info": {
   "codemirror_mode": {
    "name": "ipython",
    "version": 3
   },
   "file_extension": ".py",
   "mimetype": "text/x-python",
   "name": "python",
   "nbconvert_exporter": "python",
   "pygments_lexer": "ipython3",
   "version": "3.9.13"
  },
  "orig_nbformat": 4
 },
 "nbformat": 4,
 "nbformat_minor": 2
}
